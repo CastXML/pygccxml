{
 "cells": [
  {
   "cell_type": "markdown",
   "metadata": {},
   "source": [
    "# Example pygccxml notebook on Binder\n",
    "\n",
    "Running this notebook on Binder allows you to execute the code online.\n",
    "\n",
    "Please note that provisioning may take about 1-2 minutes.\n",
    "\n",
    "<a target=\"_doc\" href=\"https://mybinder.org/v2/gh/EricCousineau-TRI/pygccxml/feature-py-notebook-example?filepath=pygccxml/docs/examples/notebook/example.ipynb\">\n",
    "  <img src=\"https://mybinder.org/badge_logo.svg\"/>\n",
    "</a>\n",
    "\n",
    "The following example shows an example usage of `pygccxml` on Ubuntu\n",
    "Bionic, from within a Docker container, for a simple toy C++ API that\n",
    "uses both `std::vector` and `Eigen::Matrix<>`. The code is defined inline."
   ]
  },
  {
   "cell_type": "code",
   "execution_count": null,
   "metadata": {},
   "outputs": [],
   "source": [
    "from pygccxml import declarations\n",
    "from pygccxml import utils\n",
    "from pygccxml import parser"
   ]
  },
  {
   "cell_type": "code",
   "execution_count": null,
   "metadata": {},
   "outputs": [],
   "source": [
    "# Find out the c++ parser. This should resolve to the castxml\n",
    "# version installed in Docker.\n",
    "generator_path, generator_name = utils.find_xml_generator()\n",
    "\n",
    "# Configure the xml generator\n",
    "config = parser.xml_generator_configuration_t(\n",
    "    xml_generator_path=generator_path,\n",
    "    xml_generator=generator_name,\n",
    "    include_paths=[\"/usr/include/eigen3\"],\n",
    "    # TODO(eric.cousineau): Why is `compiler_path` necessary?\n",
    "    compiler_path=generator_path,\n",
    ")"
   ]
  },
  {
   "cell_type": "code",
   "execution_count": null,
   "metadata": {},
   "outputs": [],
   "source": [
    "code = r\"\"\"\n",
    "#include <vector>\n",
    "\n",
    "#include <Eigen/Dense>\n",
    "\n",
    "namespace ns {\n",
    "\n",
    "template <typename T, typename U = int>\n",
    "class ExampleClass {\n",
    "public:\n",
    "    std::vector<T> make_std_vector() const;\n",
    "    Eigen::Matrix<U, 3, 3> make_matrix3();\n",
    "};\n",
    "\n",
    "// Analyze concrete instantiations of the given class.\n",
    "extern template class ExampleClass<int>;\n",
    "extern template class ExampleClass<float, float>;\n",
    "\n",
    "}  // namespace ns\n",
    "\"\"\"\n",
    "\n",
    "(global_ns,) = parser.parse_string(code, config)"
   ]
  },
  {
   "cell_type": "code",
   "execution_count": null,
   "metadata": {
    "scrolled": false
   },
   "outputs": [],
   "source": [
    "ns = global_ns.namespace(\"ns\")\n",
    "declarations.print_declarations([ns])"
   ]
  },
  {
   "cell_type": "code",
   "execution_count": null,
   "metadata": {},
   "outputs": [],
   "source": [
    "# Retrieve an instantiation and show template parameters.\n",
    "cls, = ns.classes('ExampleClass<float, float>')\n",
    "declarations.templates.split(cls.name)"
   ]
  }
 ],
 "metadata": {
  "kernelspec": {
   "display_name": "Python 3",
   "language": "python",
   "name": "python3"
  },
  "language_info": {
   "codemirror_mode": {
    "name": "ipython",
    "version": 3
   },
   "file_extension": ".py",
   "mimetype": "text/x-python",
   "name": "python",
   "nbconvert_exporter": "python",
   "pygments_lexer": "ipython3",
   "version": "3.6.9"
  }
 },
 "nbformat": 4,
 "nbformat_minor": 4
}
